{
  "cells": [
    {
      "cell_type": "code",
      "execution_count": null,
      "metadata": {
        "colab": {
          "base_uri": "https://localhost:8080/"
        },
        "id": "njwRWfOfwTUz",
        "outputId": "ee227b37-1279-4fe6-db38-a8c20afe01e6"
      },
      "outputs": [
        {
          "name": "stdout",
          "output_type": "stream",
          "text": [
            "Requirement already satisfied: language-tool-python in /usr/local/lib/python3.10/dist-packages (2.7.1)\n",
            "Requirement already satisfied: requests in /usr/local/lib/python3.10/dist-packages (from language-tool-python) (2.31.0)\n",
            "Requirement already satisfied: tqdm in /usr/local/lib/python3.10/dist-packages (from language-tool-python) (4.66.1)\n",
            "Requirement already satisfied: charset-normalizer<4,>=2 in /usr/local/lib/python3.10/dist-packages (from requests->language-tool-python) (3.3.2)\n",
            "Requirement already satisfied: idna<4,>=2.5 in /usr/local/lib/python3.10/dist-packages (from requests->language-tool-python) (3.6)\n",
            "Requirement already satisfied: urllib3<3,>=1.21.1 in /usr/local/lib/python3.10/dist-packages (from requests->language-tool-python) (2.0.7)\n",
            "Requirement already satisfied: certifi>=2017.4.17 in /usr/local/lib/python3.10/dist-packages (from requests->language-tool-python) (2023.11.17)\n"
          ]
        }
      ],
      "source": [
        "  !pip install language-tool-python\n"
      ]
    },
    {
      "cell_type": "code",
      "execution_count": null,
      "metadata": {
        "colab": {
          "base_uri": "https://localhost:8080/"
        },
        "id": "XAIMu2gfwTU0",
        "outputId": "bee4a747-48df-48a5-a404-155fc023449e"
      },
      "outputs": [
        {
          "name": "stdout",
          "output_type": "stream",
          "text": [
            "PyTorch version: 2.1.0+cu118\n",
            "CUDA version: 11.8\n"
          ]
        }
      ],
      "source": [
        "import torch\n",
        "print(\"PyTorch version:\", torch.__version__)\n",
        "print(\"CUDA version:\", torch.version.cuda)"
      ]
    },
    {
      "cell_type": "code",
      "execution_count": null,
      "metadata": {
        "colab": {
          "base_uri": "https://localhost:8080/"
        },
        "id": "PZR9ssyUwTU0",
        "outputId": "c951253a-3137-42b5-ad71-39aed593e5fd"
      },
      "outputs": [
        {
          "name": "stdout",
          "output_type": "stream",
          "text": [
            "Looking in links: https://data.pyg.org/whl/torch-2.1.0+cu118.html\n",
            "Requirement already satisfied: torch_geometric in /usr/local/lib/python3.10/dist-packages (2.4.0)\n",
            "Requirement already satisfied: tqdm in /usr/local/lib/python3.10/dist-packages (from torch_geometric) (4.66.1)\n",
            "Requirement already satisfied: numpy in /usr/local/lib/python3.10/dist-packages (from torch_geometric) (1.23.5)\n",
            "Requirement already satisfied: scipy in /usr/local/lib/python3.10/dist-packages (from torch_geometric) (1.11.4)\n",
            "Requirement already satisfied: jinja2 in /usr/local/lib/python3.10/dist-packages (from torch_geometric) (3.1.2)\n",
            "Requirement already satisfied: requests in /usr/local/lib/python3.10/dist-packages (from torch_geometric) (2.31.0)\n",
            "Requirement already satisfied: pyparsing in /usr/local/lib/python3.10/dist-packages (from torch_geometric) (3.1.1)\n",
            "Requirement already satisfied: scikit-learn in /usr/local/lib/python3.10/dist-packages (from torch_geometric) (1.2.2)\n",
            "Requirement already satisfied: psutil>=5.8.0 in /usr/local/lib/python3.10/dist-packages (from torch_geometric) (5.9.5)\n",
            "Requirement already satisfied: MarkupSafe>=2.0 in /usr/local/lib/python3.10/dist-packages (from jinja2->torch_geometric) (2.1.3)\n",
            "Requirement already satisfied: charset-normalizer<4,>=2 in /usr/local/lib/python3.10/dist-packages (from requests->torch_geometric) (3.3.2)\n",
            "Requirement already satisfied: idna<4,>=2.5 in /usr/local/lib/python3.10/dist-packages (from requests->torch_geometric) (3.6)\n",
            "Requirement already satisfied: urllib3<3,>=1.21.1 in /usr/local/lib/python3.10/dist-packages (from requests->torch_geometric) (2.0.7)\n",
            "Requirement already satisfied: certifi>=2017.4.17 in /usr/local/lib/python3.10/dist-packages (from requests->torch_geometric) (2023.11.17)\n",
            "Requirement already satisfied: joblib>=1.1.1 in /usr/local/lib/python3.10/dist-packages (from scikit-learn->torch_geometric) (1.3.2)\n",
            "Requirement already satisfied: threadpoolctl>=2.0.0 in /usr/local/lib/python3.10/dist-packages (from scikit-learn->torch_geometric) (3.2.0)\n",
            "Looking in links: https://data.pyg.org/whl/torch-2.1.0+cu118.html\n",
            "Requirement already satisfied: torch_sparse in /usr/local/lib/python3.10/dist-packages (0.6.18+pt21cu118)\n",
            "Requirement already satisfied: pyg_lib in /usr/local/lib/python3.10/dist-packages (0.3.1+pt21cu118)\n",
            "Requirement already satisfied: scipy in /usr/local/lib/python3.10/dist-packages (from torch_sparse) (1.11.4)\n",
            "Requirement already satisfied: numpy<1.28.0,>=1.21.6 in /usr/local/lib/python3.10/dist-packages (from scipy->torch_sparse) (1.23.5)\n"
          ]
        }
      ],
      "source": [
        "!pip install torch_geometric -f https://data.pyg.org/whl/torch-2.1.0+cu118.html\n",
        "!pip install torch_sparse pyg_lib -f https://data.pyg.org/whl/torch-2.1.0+cu118.html\n"
      ]
    },
    {
      "cell_type": "code",
      "execution_count": null,
      "metadata": {
        "id": "06rhlfYLwTU0"
      },
      "outputs": [],
      "source": [
        "import numpy as np\n",
        "import pandas as pd\n",
        "import regex as re\n",
        "from sklearn.linear_model import LogisticRegression, SGDClassifier\n",
        "from sklearn.feature_extraction.text import TfidfVectorizer\n",
        "from sklearn.ensemble import VotingClassifier\n",
        "from sklearn.metrics import make_scorer, accuracy_score\n",
        "import xgboost as xgb\n",
        "from xgboost import XGBClassifier\n",
        "from sklearn.neighbors import KNeighborsClassifier\n",
        "import language_tool_python\n",
        "from concurrent.futures import ProcessPoolExecutor\n",
        "from sklearn.naive_bayes import MultinomialNB"
      ]
    },
    {
      "cell_type": "code",
      "execution_count": null,
      "metadata": {
        "colab": {
          "base_uri": "https://localhost:8080/"
        },
        "id": "l7do9CzLw9Hu",
        "outputId": "1b7dd01d-0142-4ab4-ff51-eb3260a117ad"
      },
      "outputs": [
        {
          "name": "stdout",
          "output_type": "stream",
          "text": [
            "Drive already mounted at /content/drive; to attempt to forcibly remount, call drive.mount(\"/content/drive\", force_remount=True).\n"
          ]
        }
      ],
      "source": [
        "from google.colab import drive\n",
        "drive.mount('/content/drive')"
      ]
    },
    {
      "cell_type": "code",
      "execution_count": null,
      "metadata": {
        "id": "OSlp4M3XwTU0"
      },
      "outputs": [],
      "source": [
        "seed = 202\n",
        "train = pd.read_csv(\"/content/drive/MyDrive/train_v2_drcat_02.csv\")\n",
        "external_train = pd.read_csv(\"/content/drive/MyDrive/train_essays.csv\")\n",
        "external_train.rename(columns={'generated': 'label'}, inplace=True)"
      ]
    },
    {
      "cell_type": "code",
      "execution_count": null,
      "metadata": {
        "id": "tn46eRzXwTU1"
      },
      "outputs": [],
      "source": [
        "def seed_everything(seed=202):\n",
        "    import random\n",
        "    random.seed(seed)\n",
        "    np.random.seed(seed)\n",
        "\n",
        "seed_everything(seed)"
      ]
    },
    {
      "cell_type": "code",
      "execution_count": null,
      "metadata": {
        "id": "jLtx_e4vwTU1"
      },
      "outputs": [],
      "source": [
        "tool = language_tool_python.LanguageTool('en-US')\n",
        "\n",
        "def correct_sentence(sentence):\n",
        "    return tool.correct(sentence)\n",
        "\n",
        "def correct_df(df):\n",
        "    with ProcessPoolExecutor() as executor:\n",
        "        df['text'] = list(executor.map(correct_sentence, df['text']))\n",
        "\n",
        "def how_many_typos(text):\n",
        "    return len(tool.check(text))"
      ]
    },
    {
      "cell_type": "code",
      "execution_count": null,
      "metadata": {
        "colab": {
          "base_uri": "https://localhost:8080/",
          "height": 424
        },
        "id": "_Ao4oWpTwTU1",
        "outputId": "814ab642-8402-457a-9a9e-a962fd3eb0e7"
      },
      "outputs": [
        {
          "data": {
            "text/html": [
              "\n",
              "  <div id=\"df-21604a25-632e-41a9-ba76-52f12996e5f5\" class=\"colab-df-container\">\n",
              "    <div>\n",
              "<style scoped>\n",
              "    .dataframe tbody tr th:only-of-type {\n",
              "        vertical-align: middle;\n",
              "    }\n",
              "\n",
              "    .dataframe tbody tr th {\n",
              "        vertical-align: top;\n",
              "    }\n",
              "\n",
              "    .dataframe thead th {\n",
              "        text-align: right;\n",
              "    }\n",
              "</style>\n",
              "<table border=\"1\" class=\"dataframe\">\n",
              "  <thead>\n",
              "    <tr style=\"text-align: right;\">\n",
              "      <th></th>\n",
              "      <th>text</th>\n",
              "      <th>label</th>\n",
              "      <th>prompt_name</th>\n",
              "      <th>source</th>\n",
              "      <th>RDizzl3_seven</th>\n",
              "    </tr>\n",
              "  </thead>\n",
              "  <tbody>\n",
              "    <tr>\n",
              "      <th>0</th>\n",
              "      <td>Phones\\n\\nModern humans today are always on th...</td>\n",
              "      <td>0</td>\n",
              "      <td>Phones and driving</td>\n",
              "      <td>persuade_corpus</td>\n",
              "      <td>False</td>\n",
              "    </tr>\n",
              "    <tr>\n",
              "      <th>1</th>\n",
              "      <td>This essay will explain if drivers should or s...</td>\n",
              "      <td>0</td>\n",
              "      <td>Phones and driving</td>\n",
              "      <td>persuade_corpus</td>\n",
              "      <td>False</td>\n",
              "    </tr>\n",
              "    <tr>\n",
              "      <th>2</th>\n",
              "      <td>Driving while the use of cellular devices\\n\\nT...</td>\n",
              "      <td>0</td>\n",
              "      <td>Phones and driving</td>\n",
              "      <td>persuade_corpus</td>\n",
              "      <td>False</td>\n",
              "    </tr>\n",
              "    <tr>\n",
              "      <th>3</th>\n",
              "      <td>Phones &amp; Driving\\n\\nDrivers should not be able...</td>\n",
              "      <td>0</td>\n",
              "      <td>Phones and driving</td>\n",
              "      <td>persuade_corpus</td>\n",
              "      <td>False</td>\n",
              "    </tr>\n",
              "    <tr>\n",
              "      <th>4</th>\n",
              "      <td>Cell Phone Operation While Driving\\n\\nThe abil...</td>\n",
              "      <td>0</td>\n",
              "      <td>Phones and driving</td>\n",
              "      <td>persuade_corpus</td>\n",
              "      <td>False</td>\n",
              "    </tr>\n",
              "    <tr>\n",
              "      <th>...</th>\n",
              "      <td>...</td>\n",
              "      <td>...</td>\n",
              "      <td>...</td>\n",
              "      <td>...</td>\n",
              "      <td>...</td>\n",
              "    </tr>\n",
              "    <tr>\n",
              "      <th>44863</th>\n",
              "      <td>Dear Senator,\\n\\nI am writing to you today to ...</td>\n",
              "      <td>1</td>\n",
              "      <td>Does the electoral college work?</td>\n",
              "      <td>kingki19_palm</td>\n",
              "      <td>True</td>\n",
              "    </tr>\n",
              "    <tr>\n",
              "      <th>44864</th>\n",
              "      <td>Dear Senator,\\n\\nI am writing to you today to ...</td>\n",
              "      <td>1</td>\n",
              "      <td>Does the electoral college work?</td>\n",
              "      <td>kingki19_palm</td>\n",
              "      <td>True</td>\n",
              "    </tr>\n",
              "    <tr>\n",
              "      <th>44865</th>\n",
              "      <td>Dear Senator,\\n\\nI am writing to you today to ...</td>\n",
              "      <td>1</td>\n",
              "      <td>Does the electoral college work?</td>\n",
              "      <td>kingki19_palm</td>\n",
              "      <td>True</td>\n",
              "    </tr>\n",
              "    <tr>\n",
              "      <th>44866</th>\n",
              "      <td>Dear Senator,\\n\\nI am writing to you today to ...</td>\n",
              "      <td>1</td>\n",
              "      <td>Does the electoral college work?</td>\n",
              "      <td>kingki19_palm</td>\n",
              "      <td>True</td>\n",
              "    </tr>\n",
              "    <tr>\n",
              "      <th>44867</th>\n",
              "      <td>Dear Senator,\\n\\nI am writing to you today to ...</td>\n",
              "      <td>1</td>\n",
              "      <td>Does the electoral college work?</td>\n",
              "      <td>kingki19_palm</td>\n",
              "      <td>True</td>\n",
              "    </tr>\n",
              "  </tbody>\n",
              "</table>\n",
              "<p>44868 rows × 5 columns</p>\n",
              "</div>\n",
              "    <div class=\"colab-df-buttons\">\n",
              "\n",
              "  <div class=\"colab-df-container\">\n",
              "    <button class=\"colab-df-convert\" onclick=\"convertToInteractive('df-21604a25-632e-41a9-ba76-52f12996e5f5')\"\n",
              "            title=\"Convert this dataframe to an interactive table.\"\n",
              "            style=\"display:none;\">\n",
              "\n",
              "  <svg xmlns=\"http://www.w3.org/2000/svg\" height=\"24px\" viewBox=\"0 -960 960 960\">\n",
              "    <path d=\"M120-120v-720h720v720H120Zm60-500h600v-160H180v160Zm220 220h160v-160H400v160Zm0 220h160v-160H400v160ZM180-400h160v-160H180v160Zm440 0h160v-160H620v160ZM180-180h160v-160H180v160Zm440 0h160v-160H620v160Z\"/>\n",
              "  </svg>\n",
              "    </button>\n",
              "\n",
              "  <style>\n",
              "    .colab-df-container {\n",
              "      display:flex;\n",
              "      gap: 12px;\n",
              "    }\n",
              "\n",
              "    .colab-df-convert {\n",
              "      background-color: #E8F0FE;\n",
              "      border: none;\n",
              "      border-radius: 50%;\n",
              "      cursor: pointer;\n",
              "      display: none;\n",
              "      fill: #1967D2;\n",
              "      height: 32px;\n",
              "      padding: 0 0 0 0;\n",
              "      width: 32px;\n",
              "    }\n",
              "\n",
              "    .colab-df-convert:hover {\n",
              "      background-color: #E2EBFA;\n",
              "      box-shadow: 0px 1px 2px rgba(60, 64, 67, 0.3), 0px 1px 3px 1px rgba(60, 64, 67, 0.15);\n",
              "      fill: #174EA6;\n",
              "    }\n",
              "\n",
              "    .colab-df-buttons div {\n",
              "      margin-bottom: 4px;\n",
              "    }\n",
              "\n",
              "    [theme=dark] .colab-df-convert {\n",
              "      background-color: #3B4455;\n",
              "      fill: #D2E3FC;\n",
              "    }\n",
              "\n",
              "    [theme=dark] .colab-df-convert:hover {\n",
              "      background-color: #434B5C;\n",
              "      box-shadow: 0px 1px 3px 1px rgba(0, 0, 0, 0.15);\n",
              "      filter: drop-shadow(0px 1px 2px rgba(0, 0, 0, 0.3));\n",
              "      fill: #FFFFFF;\n",
              "    }\n",
              "  </style>\n",
              "\n",
              "    <script>\n",
              "      const buttonEl =\n",
              "        document.querySelector('#df-21604a25-632e-41a9-ba76-52f12996e5f5 button.colab-df-convert');\n",
              "      buttonEl.style.display =\n",
              "        google.colab.kernel.accessAllowed ? 'block' : 'none';\n",
              "\n",
              "      async function convertToInteractive(key) {\n",
              "        const element = document.querySelector('#df-21604a25-632e-41a9-ba76-52f12996e5f5');\n",
              "        const dataTable =\n",
              "          await google.colab.kernel.invokeFunction('convertToInteractive',\n",
              "                                                    [key], {});\n",
              "        if (!dataTable) return;\n",
              "\n",
              "        const docLinkHtml = 'Like what you see? Visit the ' +\n",
              "          '<a target=\"_blank\" href=https://colab.research.google.com/notebooks/data_table.ipynb>data table notebook</a>'\n",
              "          + ' to learn more about interactive tables.';\n",
              "        element.innerHTML = '';\n",
              "        dataTable['output_type'] = 'display_data';\n",
              "        await google.colab.output.renderOutput(dataTable, element);\n",
              "        const docLink = document.createElement('div');\n",
              "        docLink.innerHTML = docLinkHtml;\n",
              "        element.appendChild(docLink);\n",
              "      }\n",
              "    </script>\n",
              "  </div>\n",
              "\n",
              "\n",
              "<div id=\"df-9295ce67-b060-4483-88f2-711bb30a77d7\">\n",
              "  <button class=\"colab-df-quickchart\" onclick=\"quickchart('df-9295ce67-b060-4483-88f2-711bb30a77d7')\"\n",
              "            title=\"Suggest charts\"\n",
              "            style=\"display:none;\">\n",
              "\n",
              "<svg xmlns=\"http://www.w3.org/2000/svg\" height=\"24px\"viewBox=\"0 0 24 24\"\n",
              "     width=\"24px\">\n",
              "    <g>\n",
              "        <path d=\"M19 3H5c-1.1 0-2 .9-2 2v14c0 1.1.9 2 2 2h14c1.1 0 2-.9 2-2V5c0-1.1-.9-2-2-2zM9 17H7v-7h2v7zm4 0h-2V7h2v10zm4 0h-2v-4h2v4z\"/>\n",
              "    </g>\n",
              "</svg>\n",
              "  </button>\n",
              "\n",
              "<style>\n",
              "  .colab-df-quickchart {\n",
              "      --bg-color: #E8F0FE;\n",
              "      --fill-color: #1967D2;\n",
              "      --hover-bg-color: #E2EBFA;\n",
              "      --hover-fill-color: #174EA6;\n",
              "      --disabled-fill-color: #AAA;\n",
              "      --disabled-bg-color: #DDD;\n",
              "  }\n",
              "\n",
              "  [theme=dark] .colab-df-quickchart {\n",
              "      --bg-color: #3B4455;\n",
              "      --fill-color: #D2E3FC;\n",
              "      --hover-bg-color: #434B5C;\n",
              "      --hover-fill-color: #FFFFFF;\n",
              "      --disabled-bg-color: #3B4455;\n",
              "      --disabled-fill-color: #666;\n",
              "  }\n",
              "\n",
              "  .colab-df-quickchart {\n",
              "    background-color: var(--bg-color);\n",
              "    border: none;\n",
              "    border-radius: 50%;\n",
              "    cursor: pointer;\n",
              "    display: none;\n",
              "    fill: var(--fill-color);\n",
              "    height: 32px;\n",
              "    padding: 0;\n",
              "    width: 32px;\n",
              "  }\n",
              "\n",
              "  .colab-df-quickchart:hover {\n",
              "    background-color: var(--hover-bg-color);\n",
              "    box-shadow: 0 1px 2px rgba(60, 64, 67, 0.3), 0 1px 3px 1px rgba(60, 64, 67, 0.15);\n",
              "    fill: var(--button-hover-fill-color);\n",
              "  }\n",
              "\n",
              "  .colab-df-quickchart-complete:disabled,\n",
              "  .colab-df-quickchart-complete:disabled:hover {\n",
              "    background-color: var(--disabled-bg-color);\n",
              "    fill: var(--disabled-fill-color);\n",
              "    box-shadow: none;\n",
              "  }\n",
              "\n",
              "  .colab-df-spinner {\n",
              "    border: 2px solid var(--fill-color);\n",
              "    border-color: transparent;\n",
              "    border-bottom-color: var(--fill-color);\n",
              "    animation:\n",
              "      spin 1s steps(1) infinite;\n",
              "  }\n",
              "\n",
              "  @keyframes spin {\n",
              "    0% {\n",
              "      border-color: transparent;\n",
              "      border-bottom-color: var(--fill-color);\n",
              "      border-left-color: var(--fill-color);\n",
              "    }\n",
              "    20% {\n",
              "      border-color: transparent;\n",
              "      border-left-color: var(--fill-color);\n",
              "      border-top-color: var(--fill-color);\n",
              "    }\n",
              "    30% {\n",
              "      border-color: transparent;\n",
              "      border-left-color: var(--fill-color);\n",
              "      border-top-color: var(--fill-color);\n",
              "      border-right-color: var(--fill-color);\n",
              "    }\n",
              "    40% {\n",
              "      border-color: transparent;\n",
              "      border-right-color: var(--fill-color);\n",
              "      border-top-color: var(--fill-color);\n",
              "    }\n",
              "    60% {\n",
              "      border-color: transparent;\n",
              "      border-right-color: var(--fill-color);\n",
              "    }\n",
              "    80% {\n",
              "      border-color: transparent;\n",
              "      border-right-color: var(--fill-color);\n",
              "      border-bottom-color: var(--fill-color);\n",
              "    }\n",
              "    90% {\n",
              "      border-color: transparent;\n",
              "      border-bottom-color: var(--fill-color);\n",
              "    }\n",
              "  }\n",
              "</style>\n",
              "\n",
              "  <script>\n",
              "    async function quickchart(key) {\n",
              "      const quickchartButtonEl =\n",
              "        document.querySelector('#' + key + ' button');\n",
              "      quickchartButtonEl.disabled = true;  // To prevent multiple clicks.\n",
              "      quickchartButtonEl.classList.add('colab-df-spinner');\n",
              "      try {\n",
              "        const charts = await google.colab.kernel.invokeFunction(\n",
              "            'suggestCharts', [key], {});\n",
              "      } catch (error) {\n",
              "        console.error('Error during call to suggestCharts:', error);\n",
              "      }\n",
              "      quickchartButtonEl.classList.remove('colab-df-spinner');\n",
              "      quickchartButtonEl.classList.add('colab-df-quickchart-complete');\n",
              "    }\n",
              "    (() => {\n",
              "      let quickchartButtonEl =\n",
              "        document.querySelector('#df-9295ce67-b060-4483-88f2-711bb30a77d7 button');\n",
              "      quickchartButtonEl.style.display =\n",
              "        google.colab.kernel.accessAllowed ? 'block' : 'none';\n",
              "    })();\n",
              "  </script>\n",
              "</div>\n",
              "    </div>\n",
              "  </div>\n"
            ],
            "text/plain": [
              "                                                    text  label  \\\n",
              "0      Phones\\n\\nModern humans today are always on th...      0   \n",
              "1      This essay will explain if drivers should or s...      0   \n",
              "2      Driving while the use of cellular devices\\n\\nT...      0   \n",
              "3      Phones & Driving\\n\\nDrivers should not be able...      0   \n",
              "4      Cell Phone Operation While Driving\\n\\nThe abil...      0   \n",
              "...                                                  ...    ...   \n",
              "44863  Dear Senator,\\n\\nI am writing to you today to ...      1   \n",
              "44864  Dear Senator,\\n\\nI am writing to you today to ...      1   \n",
              "44865  Dear Senator,\\n\\nI am writing to you today to ...      1   \n",
              "44866  Dear Senator,\\n\\nI am writing to you today to ...      1   \n",
              "44867  Dear Senator,\\n\\nI am writing to you today to ...      1   \n",
              "\n",
              "                            prompt_name           source  RDizzl3_seven  \n",
              "0                    Phones and driving  persuade_corpus          False  \n",
              "1                    Phones and driving  persuade_corpus          False  \n",
              "2                    Phones and driving  persuade_corpus          False  \n",
              "3                    Phones and driving  persuade_corpus          False  \n",
              "4                    Phones and driving  persuade_corpus          False  \n",
              "...                                 ...              ...            ...  \n",
              "44863  Does the electoral college work?    kingki19_palm           True  \n",
              "44864  Does the electoral college work?    kingki19_palm           True  \n",
              "44865  Does the electoral college work?    kingki19_palm           True  \n",
              "44866  Does the electoral college work?    kingki19_palm           True  \n",
              "44867  Does the electoral college work?    kingki19_palm           True  \n",
              "\n",
              "[44868 rows x 5 columns]"
            ]
          },
          "metadata": {},
          "output_type": "display_data"
        }
      ],
      "source": [
        "display(train)"
      ]
    },
    {
      "cell_type": "code",
      "execution_count": null,
      "metadata": {
        "id": "M7S2QB_GwTU1"
      },
      "outputs": [],
      "source": [
        "not_persuade_df = train[train['source'] != 'persuade_corpus']\n",
        "persuade_df = train[train['source'] == 'persuade_corpus']\n",
        "sampled_persuade_df = persuade_df.sample(n=6000, random_state=42)"
      ]
    },
    {
      "cell_type": "code",
      "execution_count": null,
      "metadata": {
        "colab": {
          "base_uri": "https://localhost:8080/"
        },
        "id": "pFW_vZ9iwTU1",
        "outputId": "d6fcb359-3d70-4031-a81b-838c42fa7acd"
      },
      "outputs": [
        {
          "name": "stdout",
          "output_type": "stream",
          "text": [
            "🏨‍�🏽🍳😍💸👌路💧🐬🧖🎉り🐢🎄👇🏻📸–🕺に🔬🥲😬🌐禁🥛🎹法😷🍁👯āê😉🤗🤘🥨🏰🚂🐰📅🔮📝😩😌°💬🤕🐻🏦💤🏟🙄^都🛑‘🤜🚣😹💁📊🛫🥭择¬🌧🚪使。🤦🍋🐝😳😖💥😝必驶🇸🐧💆和🌫🎧🌻护🤓🔧🧭🐒🏳🔭🥁”🏢🚴🧙🙈🎠🏋🎵🇺⚽👋🧡🗳み🍕🌠🥯🌞🤪📚😭о🤩😡🍣╯🥪🔑🏖🏠🤟🤒─🙃🍷🤢😅🤔🥘ま🇪🌌须🚗️🥶合😻🐴☹☀🎃取🎅🔋🤖💃选🐭🧀唯💉🎥😮♀こ👨😁…🏡😲🏜响🤛🌊🧽😵🌸💖💼🗣í😂🙌🏊🍖🎤🛣🍞💕🇷🇯🧩🤝🦸🏄е📧🐕😋驾中💪は💭🤣🏏🇧あ🌭\r注□全一😎🚀💡📺手📄⏰🔍🎬🐆👧🌏🐳🏯÷🥦🏥🙊🍜的🍓🥜👦😄🚕う🎮🙏🍰🔥😨🥳📱🏈🌅а😔💔🏙👀🎭🦎É🎶😴🐸🚔🕒是有🎊🥩🤫😓🚨😊📦🎢🕵す💊🍄🕰🛍😱道🥔🌳👬💯🛀👏🍴🚫影🧦😆🛠🐠止🌯🎈🏫🥑ü🌟上👕🧚と🙅💰—😃👮🎸🎯部🍽🌱🚭🍭💻🙋😕安🐶🏃ち🍎ç👩👥🌄📞🚑🐱🥖🌮🍲🌿🤞保🇵🧠🎾🦁🍟在🏀😢完🏔せ✨🥕将👫🌲♂😒❄🤷👻📣зé🍗👍🏛💫ãん🐾🛬集💨🧘🏆📉🏼🍿📹🌨🌽应🎩🛋所意🐦🌴🍮🇫🔜“💜が🐟🥤🎣用力🎨р👪🛸🦄司💚👂🤤😈该🚚​п🌃🧹🙀🥗🌷📷🦐📈🕹😤😠💘💅🌎­🏞🎓🌈📖🚌😜💇🤯🍔🧐🏕🍝者时🧬💦📰机🥟д💀с’😘🧑\n"
          ]
        }
      ],
      "source": [
        "all_human = set(list(''.join(sampled_persuade_df.text.to_list())))\n",
        "other = set(list(''.join(not_persuade_df.text.to_list())))\n",
        "chars_to_remove = ''.join([x for x in other if x not in all_human])\n",
        "print(chars_to_remove)\n",
        "\n",
        "translation_table = str.maketrans('', '', chars_to_remove)"
      ]
    },
    {
      "cell_type": "code",
      "execution_count": null,
      "metadata": {
        "id": "HAY7cv4lwTU1"
      },
      "outputs": [],
      "source": [
        "def remove_chars(s):\n",
        "    return s.translate(translation_table)"
      ]
    },
    {
      "cell_type": "code",
      "execution_count": null,
      "metadata": {
        "id": "_yyLbDn-wTU1"
      },
      "outputs": [],
      "source": [
        "train = pd.concat([train, external_train])\n",
        "train['text'] = train['text'].apply(remove_chars)\n",
        "train['text'] = train['text'].str.replace('\\n', '')"
      ]
    },
    {
      "cell_type": "code",
      "execution_count": null,
      "metadata": {
        "id": "5HZtbmukwTU1"
      },
      "outputs": [],
      "source": [
        "test = pd.read_csv('/content/drive/MyDrive/test_essays.csv')\n",
        "test['text'] = test['text'].str.replace('\\n', '')\n",
        "test['text'] = test['text'].apply(remove_chars)\n",
        "correct_df(test)"
      ]
    },
    {
      "cell_type": "code",
      "execution_count": null,
      "metadata": {
        "id": "l9x1YqjcwTU1"
      },
      "outputs": [],
      "source": [
        "from sklearn.decomposition import TruncatedSVD\n",
        "\n",
        "\n",
        "df = pd.concat([train['text'], test['text']], axis=0)\n",
        "vectorizer = TfidfVectorizer( max_features = 20000,\n",
        "                             ngram_range=(1, 1), tokenizer=lambda x: re.findall(r'[^\\W]+', x), token_pattern=None, strip_accents='unicode')\n",
        "tfidf_matrix = vectorizer.fit_transform(df)\n",
        "\n",
        "svd = TruncatedSVD(n_components=64)\n",
        "reduced_matrix = svd.fit_transform(tfidf_matrix)\n"
      ]
    },
    {
      "cell_type": "code",
      "execution_count": null,
      "metadata": {
        "colab": {
          "base_uri": "https://localhost:8080/",
          "height": 143
        },
        "id": "UP7Y5SMQkDrA",
        "outputId": "fb433888-f2c4-4ac7-968b-93c4f0db5069"
      },
      "outputs": [
        {
          "data": {
            "text/html": [
              "\n",
              "  <div id=\"df-68b6b55b-7377-4d39-a4fd-731fced30a05\" class=\"colab-df-container\">\n",
              "    <div>\n",
              "<style scoped>\n",
              "    .dataframe tbody tr th:only-of-type {\n",
              "        vertical-align: middle;\n",
              "    }\n",
              "\n",
              "    .dataframe tbody tr th {\n",
              "        vertical-align: top;\n",
              "    }\n",
              "\n",
              "    .dataframe thead th {\n",
              "        text-align: right;\n",
              "    }\n",
              "</style>\n",
              "<table border=\"1\" class=\"dataframe\">\n",
              "  <thead>\n",
              "    <tr style=\"text-align: right;\">\n",
              "      <th></th>\n",
              "      <th>id</th>\n",
              "      <th>prompt_id</th>\n",
              "      <th>text</th>\n",
              "    </tr>\n",
              "  </thead>\n",
              "  <tbody>\n",
              "    <tr>\n",
              "      <th>0</th>\n",
              "      <td>0000aaaa</td>\n",
              "      <td>2</td>\n",
              "      <td>AAA BBB CCC.</td>\n",
              "    </tr>\n",
              "    <tr>\n",
              "      <th>1</th>\n",
              "      <td>1111bbbb</td>\n",
              "      <td>3</td>\n",
              "      <td>BBB CCC DDD.</td>\n",
              "    </tr>\n",
              "    <tr>\n",
              "      <th>2</th>\n",
              "      <td>2222cccc</td>\n",
              "      <td>4</td>\n",
              "      <td>CCC DDD EEE.</td>\n",
              "    </tr>\n",
              "  </tbody>\n",
              "</table>\n",
              "</div>\n",
              "    <div class=\"colab-df-buttons\">\n",
              "\n",
              "  <div class=\"colab-df-container\">\n",
              "    <button class=\"colab-df-convert\" onclick=\"convertToInteractive('df-68b6b55b-7377-4d39-a4fd-731fced30a05')\"\n",
              "            title=\"Convert this dataframe to an interactive table.\"\n",
              "            style=\"display:none;\">\n",
              "\n",
              "  <svg xmlns=\"http://www.w3.org/2000/svg\" height=\"24px\" viewBox=\"0 -960 960 960\">\n",
              "    <path d=\"M120-120v-720h720v720H120Zm60-500h600v-160H180v160Zm220 220h160v-160H400v160Zm0 220h160v-160H400v160ZM180-400h160v-160H180v160Zm440 0h160v-160H620v160ZM180-180h160v-160H180v160Zm440 0h160v-160H620v160Z\"/>\n",
              "  </svg>\n",
              "    </button>\n",
              "\n",
              "  <style>\n",
              "    .colab-df-container {\n",
              "      display:flex;\n",
              "      gap: 12px;\n",
              "    }\n",
              "\n",
              "    .colab-df-convert {\n",
              "      background-color: #E8F0FE;\n",
              "      border: none;\n",
              "      border-radius: 50%;\n",
              "      cursor: pointer;\n",
              "      display: none;\n",
              "      fill: #1967D2;\n",
              "      height: 32px;\n",
              "      padding: 0 0 0 0;\n",
              "      width: 32px;\n",
              "    }\n",
              "\n",
              "    .colab-df-convert:hover {\n",
              "      background-color: #E2EBFA;\n",
              "      box-shadow: 0px 1px 2px rgba(60, 64, 67, 0.3), 0px 1px 3px 1px rgba(60, 64, 67, 0.15);\n",
              "      fill: #174EA6;\n",
              "    }\n",
              "\n",
              "    .colab-df-buttons div {\n",
              "      margin-bottom: 4px;\n",
              "    }\n",
              "\n",
              "    [theme=dark] .colab-df-convert {\n",
              "      background-color: #3B4455;\n",
              "      fill: #D2E3FC;\n",
              "    }\n",
              "\n",
              "    [theme=dark] .colab-df-convert:hover {\n",
              "      background-color: #434B5C;\n",
              "      box-shadow: 0px 1px 3px 1px rgba(0, 0, 0, 0.15);\n",
              "      filter: drop-shadow(0px 1px 2px rgba(0, 0, 0, 0.3));\n",
              "      fill: #FFFFFF;\n",
              "    }\n",
              "  </style>\n",
              "\n",
              "    <script>\n",
              "      const buttonEl =\n",
              "        document.querySelector('#df-68b6b55b-7377-4d39-a4fd-731fced30a05 button.colab-df-convert');\n",
              "      buttonEl.style.display =\n",
              "        google.colab.kernel.accessAllowed ? 'block' : 'none';\n",
              "\n",
              "      async function convertToInteractive(key) {\n",
              "        const element = document.querySelector('#df-68b6b55b-7377-4d39-a4fd-731fced30a05');\n",
              "        const dataTable =\n",
              "          await google.colab.kernel.invokeFunction('convertToInteractive',\n",
              "                                                    [key], {});\n",
              "        if (!dataTable) return;\n",
              "\n",
              "        const docLinkHtml = 'Like what you see? Visit the ' +\n",
              "          '<a target=\"_blank\" href=https://colab.research.google.com/notebooks/data_table.ipynb>data table notebook</a>'\n",
              "          + ' to learn more about interactive tables.';\n",
              "        element.innerHTML = '';\n",
              "        dataTable['output_type'] = 'display_data';\n",
              "        await google.colab.output.renderOutput(dataTable, element);\n",
              "        const docLink = document.createElement('div');\n",
              "        docLink.innerHTML = docLinkHtml;\n",
              "        element.appendChild(docLink);\n",
              "      }\n",
              "    </script>\n",
              "  </div>\n",
              "\n",
              "\n",
              "<div id=\"df-aa3b0300-f340-4ec4-9bf2-525561f1bbd1\">\n",
              "  <button class=\"colab-df-quickchart\" onclick=\"quickchart('df-aa3b0300-f340-4ec4-9bf2-525561f1bbd1')\"\n",
              "            title=\"Suggest charts\"\n",
              "            style=\"display:none;\">\n",
              "\n",
              "<svg xmlns=\"http://www.w3.org/2000/svg\" height=\"24px\"viewBox=\"0 0 24 24\"\n",
              "     width=\"24px\">\n",
              "    <g>\n",
              "        <path d=\"M19 3H5c-1.1 0-2 .9-2 2v14c0 1.1.9 2 2 2h14c1.1 0 2-.9 2-2V5c0-1.1-.9-2-2-2zM9 17H7v-7h2v7zm4 0h-2V7h2v10zm4 0h-2v-4h2v4z\"/>\n",
              "    </g>\n",
              "</svg>\n",
              "  </button>\n",
              "\n",
              "<style>\n",
              "  .colab-df-quickchart {\n",
              "      --bg-color: #E8F0FE;\n",
              "      --fill-color: #1967D2;\n",
              "      --hover-bg-color: #E2EBFA;\n",
              "      --hover-fill-color: #174EA6;\n",
              "      --disabled-fill-color: #AAA;\n",
              "      --disabled-bg-color: #DDD;\n",
              "  }\n",
              "\n",
              "  [theme=dark] .colab-df-quickchart {\n",
              "      --bg-color: #3B4455;\n",
              "      --fill-color: #D2E3FC;\n",
              "      --hover-bg-color: #434B5C;\n",
              "      --hover-fill-color: #FFFFFF;\n",
              "      --disabled-bg-color: #3B4455;\n",
              "      --disabled-fill-color: #666;\n",
              "  }\n",
              "\n",
              "  .colab-df-quickchart {\n",
              "    background-color: var(--bg-color);\n",
              "    border: none;\n",
              "    border-radius: 50%;\n",
              "    cursor: pointer;\n",
              "    display: none;\n",
              "    fill: var(--fill-color);\n",
              "    height: 32px;\n",
              "    padding: 0;\n",
              "    width: 32px;\n",
              "  }\n",
              "\n",
              "  .colab-df-quickchart:hover {\n",
              "    background-color: var(--hover-bg-color);\n",
              "    box-shadow: 0 1px 2px rgba(60, 64, 67, 0.3), 0 1px 3px 1px rgba(60, 64, 67, 0.15);\n",
              "    fill: var(--button-hover-fill-color);\n",
              "  }\n",
              "\n",
              "  .colab-df-quickchart-complete:disabled,\n",
              "  .colab-df-quickchart-complete:disabled:hover {\n",
              "    background-color: var(--disabled-bg-color);\n",
              "    fill: var(--disabled-fill-color);\n",
              "    box-shadow: none;\n",
              "  }\n",
              "\n",
              "  .colab-df-spinner {\n",
              "    border: 2px solid var(--fill-color);\n",
              "    border-color: transparent;\n",
              "    border-bottom-color: var(--fill-color);\n",
              "    animation:\n",
              "      spin 1s steps(1) infinite;\n",
              "  }\n",
              "\n",
              "  @keyframes spin {\n",
              "    0% {\n",
              "      border-color: transparent;\n",
              "      border-bottom-color: var(--fill-color);\n",
              "      border-left-color: var(--fill-color);\n",
              "    }\n",
              "    20% {\n",
              "      border-color: transparent;\n",
              "      border-left-color: var(--fill-color);\n",
              "      border-top-color: var(--fill-color);\n",
              "    }\n",
              "    30% {\n",
              "      border-color: transparent;\n",
              "      border-left-color: var(--fill-color);\n",
              "      border-top-color: var(--fill-color);\n",
              "      border-right-color: var(--fill-color);\n",
              "    }\n",
              "    40% {\n",
              "      border-color: transparent;\n",
              "      border-right-color: var(--fill-color);\n",
              "      border-top-color: var(--fill-color);\n",
              "    }\n",
              "    60% {\n",
              "      border-color: transparent;\n",
              "      border-right-color: var(--fill-color);\n",
              "    }\n",
              "    80% {\n",
              "      border-color: transparent;\n",
              "      border-right-color: var(--fill-color);\n",
              "      border-bottom-color: var(--fill-color);\n",
              "    }\n",
              "    90% {\n",
              "      border-color: transparent;\n",
              "      border-bottom-color: var(--fill-color);\n",
              "    }\n",
              "  }\n",
              "</style>\n",
              "\n",
              "  <script>\n",
              "    async function quickchart(key) {\n",
              "      const quickchartButtonEl =\n",
              "        document.querySelector('#' + key + ' button');\n",
              "      quickchartButtonEl.disabled = true;  // To prevent multiple clicks.\n",
              "      quickchartButtonEl.classList.add('colab-df-spinner');\n",
              "      try {\n",
              "        const charts = await google.colab.kernel.invokeFunction(\n",
              "            'suggestCharts', [key], {});\n",
              "      } catch (error) {\n",
              "        console.error('Error during call to suggestCharts:', error);\n",
              "      }\n",
              "      quickchartButtonEl.classList.remove('colab-df-spinner');\n",
              "      quickchartButtonEl.classList.add('colab-df-quickchart-complete');\n",
              "    }\n",
              "    (() => {\n",
              "      let quickchartButtonEl =\n",
              "        document.querySelector('#df-aa3b0300-f340-4ec4-9bf2-525561f1bbd1 button');\n",
              "      quickchartButtonEl.style.display =\n",
              "        google.colab.kernel.accessAllowed ? 'block' : 'none';\n",
              "    })();\n",
              "  </script>\n",
              "</div>\n",
              "    </div>\n",
              "  </div>\n"
            ],
            "text/plain": [
              "         id  prompt_id          text\n",
              "0  0000aaaa          2  AAA BBB CCC.\n",
              "1  1111bbbb          3  BBB CCC DDD.\n",
              "2  2222cccc          4  CCC DDD EEE."
            ]
          },
          "metadata": {},
          "output_type": "display_data"
        }
      ],
      "source": [
        "display(test)"
      ]
    },
    {
      "cell_type": "code",
      "execution_count": null,
      "metadata": {
        "colab": {
          "base_uri": "https://localhost:8080/"
        },
        "id": "72cqjwAiwTU1",
        "outputId": "6a8a1762-6d20-425d-d2ca-382937c73204"
      },
      "outputs": [
        {
          "name": "stdout",
          "output_type": "stream",
          "text": [
            "64\n"
          ]
        }
      ],
      "source": [
        "print(reduced_matrix.shape[1])"
      ]
    },
    {
      "cell_type": "code",
      "execution_count": null,
      "metadata": {
        "id": "kiNqQFYXwTU1"
      },
      "outputs": [],
      "source": [
        "import itertools\n",
        "train['prompt_id'] = train['prompt_name'].factorize()[0]\n",
        "prompts = train['prompt_id']\n",
        "\n",
        "\n",
        "edges = []\n",
        "for prompt in prompts.unique():\n",
        "    indices = train[train['prompt_id'] == prompt].index\n",
        "    for i, j in itertools.combinations(indices, 2):\n",
        "        edges.append([i, j])\n",
        "\n"
      ]
    },
    {
      "cell_type": "code",
      "execution_count": null,
      "metadata": {
        "id": "TgcJV24KwTU1"
      },
      "outputs": [],
      "source": [
        "import torch\n",
        "edge_index = torch.tensor(edges, dtype=torch.long).t().contiguous()\n"
      ]
    },
    {
      "cell_type": "code",
      "execution_count": null,
      "metadata": {
        "id": "6LDOtqLBwTU1"
      },
      "outputs": [],
      "source": [
        "\n",
        "from torch_geometric.data import Data\n",
        "\n",
        "labels_tensor = torch.tensor(train['label'].values, dtype=torch.long)\n",
        "\n",
        "data = Data(x=torch.tensor(reduced_matrix[:train.shape[0]], dtype=torch.float),\n",
        "            edge_index=edge_index,\n",
        "            y=labels_tensor)\n",
        "\n"
      ]
    },
    {
      "cell_type": "code",
      "execution_count": null,
      "metadata": {
        "id": "74vW8Q5YeFyE"
      },
      "outputs": [],
      "source": [
        "train_mask = np.zeros(len(data.y))\n",
        "train_mask[0:round(len(data.y)*0.8)] = 1\n",
        "\n",
        "val_mask = np.ones(len(data.y))\n",
        "val_mask[0:round(len(data.y)*0.8)] = 0\n",
        "\n",
        "\n",
        "\n",
        "idx_train = torch.tensor(train_mask).type(torch.bool)\n",
        "idx_val = torch.tensor(val_mask).type(torch.bool)\n",
        "\n",
        "data.train_mask = idx_train\n",
        "data.val_mask = idx_val"
      ]
    },
    {
      "cell_type": "code",
      "execution_count": null,
      "metadata": {
        "colab": {
          "base_uri": "https://localhost:8080/"
        },
        "id": "zuLJUUAAltQA",
        "outputId": "8bf37ea2-ff16-4e49-a16d-39fab5f4762c"
      },
      "outputs": [
        {
          "name": "stdout",
          "output_type": "stream",
          "text": [
            "tensor([ True,  True,  True,  ..., False, False, False]) tensor([False, False, False,  ...,  True,  True,  True])\n"
          ]
        }
      ],
      "source": [
        "print(data.train_mask, data.val_mask )"
      ]
    },
    {
      "cell_type": "code",
      "execution_count": null,
      "metadata": {
        "id": "WKtf01q1wTU1"
      },
      "outputs": [],
      "source": [
        "from torch_geometric.nn import SAGEConv\n",
        "import torch.nn.functional as F\n",
        "\n",
        "class GraphSAGE(torch.nn.Module):\n",
        "    def __init__(self, num_features, num_classes):\n",
        "        super(GraphSAGE, self).__init__()\n",
        "        self.conv1 = SAGEConv(num_features, 128)\n",
        "        self.conv2 = SAGEConv(128, num_classes)\n",
        "\n",
        "    def forward(self, x, edge_index):\n",
        "        x = F.relu(self.conv1(x, edge_index))\n",
        "        x = F.log_softmax(self.conv2(x, edge_index), dim=1)\n",
        "        return x\n"
      ]
    },
    {
      "cell_type": "code",
      "execution_count": null,
      "metadata": {
        "id": "pcL3m-ErwTU1"
      },
      "outputs": [],
      "source": [
        "device = torch.device('cuda' if torch.cuda.is_available() else 'cpu')\n",
        "model = GraphSAGE(num_features=reduced_matrix.shape[1], num_classes=2).to(device)\n"
      ]
    },
    {
      "cell_type": "code",
      "execution_count": null,
      "metadata": {
        "colab": {
          "base_uri": "https://localhost:8080/"
        },
        "id": "uSrGP6xn4OHA",
        "outputId": "846247f8-c213-4861-e3e6-ddfd92bd4858"
      },
      "outputs": [
        {
          "name": "stdout",
          "output_type": "stream",
          "text": [
            "Data(x=[46246, 64], edge_index=[2, 80250536], y=[46246], train_mask=[46246], val_mask=[46246])\n",
            "Data(x=[41768, 64], edge_index=[2, 5927936], y=[41768], train_mask=[41768], val_mask=[41768], n_id=[41768], e_id=[5927936], num_sampled_nodes=[3], num_sampled_edges=[2], input_id=[500], batch_size=500)\n"
          ]
        }
      ],
      "source": [
        "import torch_geometric\n",
        "from torch_geometric.loader import NodeLoader\n",
        "from torch_geometric.sampler import NeighborSampler\n",
        "\n",
        "print(data)\n",
        "# Crear el sampler\n",
        "sampler = NeighborSampler(data,  num_neighbors = [200,200])\n",
        "\n",
        "loader = NodeLoader(data, batch_size=500, shuffle=True, node_sampler=sampler)\n",
        "\n",
        "# Obtener un batch de nodos\n",
        "sampled_data = next(iter(loader))\n",
        "print(sampled_data)"
      ]
    },
    {
      "cell_type": "code",
      "execution_count": null,
      "metadata": {
        "id": "zXFLcArDwTU2"
      },
      "outputs": [],
      "source": [
        "# from torch_geometric.loader import ClusterLoader\n",
        "# from torch_geometric.loader import ClusterData\n",
        "\n",
        "# cluster_data = ClusterData(data, num_parts=5000)\n",
        "# loader = ClusterLoader(cluster_data, batch_size=1, shuffle=False)\n",
        "\n",
        "# sampled_data = next(iter(loader))\n",
        "# print(sampled_data)"
      ]
    },
    {
      "cell_type": "code",
      "execution_count": null,
      "metadata": {
        "id": "DuxBlydpkJcl"
      },
      "outputs": [],
      "source": [
        "def print_model_stats(model):\n",
        "    for name, param in model.named_parameters():\n",
        "        if param.requires_grad:\n",
        "            print(name, \"weight:\", param.data.norm().item(), \"grad:\", param.grad.norm().item() if param.grad is not None else None)"
      ]
    },
    {
      "cell_type": "code",
      "execution_count": null,
      "metadata": {
        "colab": {
          "base_uri": "https://localhost:8080/"
        },
        "id": "p24OV-X5kNOR",
        "outputId": "16479b0d-1e8c-436f-cfac-04cf9526cbba"
      },
      "outputs": [
        {
          "data": {
            "text/plain": [
              "<torch.autograd.anomaly_mode.set_detect_anomaly at 0x7b6af8e87250>"
            ]
          },
          "execution_count": 29,
          "metadata": {},
          "output_type": "execute_result"
        }
      ],
      "source": [
        "torch.autograd.set_detect_anomaly(True)\n"
      ]
    },
    {
      "cell_type": "code",
      "execution_count": null,
      "metadata": {
        "colab": {
          "background_save": true,
          "base_uri": "https://localhost:8080/"
        },
        "id": "Un-Q-wFKwTU2",
        "outputId": "96f048ad-00a5-46f6-8b80-0dc3fb4c46ee"
      },
      "outputs": [
        {
          "name": "stdout",
          "output_type": "stream",
          "text": [
            "Epoch 0, Loss: 0.4685219253904076, Train Accuracy: 75.67702935181866%\n",
            "Epoch 0, Val Accuracy: 62.959994522556194%\n",
            "Epoch 1, Loss: 0.15249373948061337, Train Accuracy: 96.46049048245604%\n",
            "Epoch 1, Val Accuracy: 87.35118987464578%\n",
            "Epoch 2, Loss: 0.06277197086682884, Train Accuracy: 98.57428132743318%\n",
            "Epoch 2, Val Accuracy: 92.74805833017409%\n",
            "Epoch 3, Loss: 0.04203489514928992, Train Accuracy: 98.95228405253316%\n",
            "Epoch 3, Val Accuracy: 95.16119304565997%\n",
            "Epoch 4, Loss: 0.03324514184828087, Train Accuracy: 99.12770794648733%\n",
            "Epoch 4, Val Accuracy: 95.98525969621771%\n",
            "Epoch 5, Loss: 0.028510528907019606, Train Accuracy: 99.23663358205901%\n",
            "Epoch 5, Val Accuracy: 96.44063203956921%\n",
            "Epoch 6, Loss: 0.025474931704260968, Train Accuracy: 99.2947926270806%\n",
            "Epoch 6, Val Accuracy: 96.63594005284709%\n",
            "Epoch 7, Loss: 0.02319816249592971, Train Accuracy: 99.34305712020756%\n",
            "Epoch 7, Val Accuracy: 96.81342961079855%\n",
            "Epoch 8, Loss: 0.02153685428602721, Train Accuracy: 99.37516137816809%\n",
            "Epoch 8, Val Accuracy: 96.83400681980899%\n",
            "Epoch 9, Loss: 0.02001199560860793, Train Accuracy: 99.41189065902235%\n",
            "Epoch 9, Val Accuracy: 96.88047075982747%\n",
            "Epoch 10, Loss: 0.018759472495926324, Train Accuracy: 99.44587760414139%\n",
            "Epoch 10, Val Accuracy: 96.81638911023916%\n",
            "Epoch 11, Loss: 0.017621358315790852, Train Accuracy: 99.48440227100815%\n",
            "Epoch 11, Val Accuracy: 96.76276912217013%\n",
            "Epoch 12, Loss: 0.016542230772795857, Train Accuracy: 99.51450924880923%\n",
            "Epoch 12, Val Accuracy: 96.70585683471442%\n",
            "Epoch 13, Loss: 0.015653138609743246, Train Accuracy: 99.54101722590752%\n",
            "Epoch 13, Val Accuracy: 96.62294087923193%\n"
          ]
        }
      ],
      "source": [
        "num_epochs = 200\n",
        "optimizer = torch.optim.Adam(model.parameters(), lr=0.001)\n",
        "\n",
        "for epoch in range(num_epochs):\n",
        "    # Fase de entrenamiento\n",
        "    model.train()\n",
        "    total_loss = 0\n",
        "    correct = 0\n",
        "    total = 0\n",
        "    for batch in loader:\n",
        "        batch.to(device)\n",
        "        optimizer.zero_grad()\n",
        "        out = model(batch.x, batch.edge_index)\n",
        "\n",
        "\n",
        "\n",
        "        # Aplicar la máscara de entrenamiento\n",
        "        train_mask = batch.train_mask\n",
        "        loss = F.nll_loss(out[train_mask], batch.y[train_mask])\n",
        "        loss.backward()\n",
        "        optimizer.step()\n",
        "        total_loss += loss.item()\n",
        "\n",
        "        # Calcular la precisión\n",
        "        preds = out.max(1)[1]\n",
        "        correct += preds[train_mask].eq(batch.y[train_mask]).sum().item()\n",
        "        total += train_mask.sum().item()\n",
        "        if torch.isnan(loss):\n",
        "            print(\"batch.x:\", batch.x)\n",
        "            print(\"batch.edge_index:\", batch.edge_index)\n",
        "            print(\"train_mask:\", batch.train_mask)\n",
        "            print(\"val_mask:\", batch.val_mask)\n",
        "            print(batch.y)\n",
        "            print(batch.x)\n",
        "            print(f\"NaN detected at epoch {epoch}\")\n",
        "            print_model_stats(model)\n",
        "            break\n",
        "\n",
        "    train_accuracy = 100. * correct / total\n",
        "\n",
        "\n",
        "    print(f\"Epoch {epoch}, Loss: {total_loss / len(loader)}, Train Accuracy: {train_accuracy}%\")\n",
        "\n",
        "    # Fase de validación\n",
        "    model.eval()\n",
        "    val_correct = 0\n",
        "    val_total = 0\n",
        "    with torch.no_grad():\n",
        "        for batch in loader:\n",
        "            batch.to(device)\n",
        "            out = model(batch.x, batch.edge_index)\n",
        "\n",
        "            # Aplicar la máscara de validación\n",
        "            val_mask = batch.val_mask\n",
        "            val_correct += out[val_mask].max(1)[1].eq(batch.y[val_mask]).sum().item()\n",
        "            val_total += val_mask.sum().item()\n",
        "\n",
        "    val_accuracy = 100. * val_correct / val_total\n",
        "    print(f\"Epoch {epoch}, Val Accuracy: {val_accuracy}%\")"
      ]
    },
    {
      "cell_type": "code",
      "execution_count": null,
      "metadata": {
        "id": "lpBezNbHi9zA"
      },
      "outputs": [],
      "source": []
    }
  ],
  "metadata": {
    "accelerator": "GPU",
    "colab": {
      "machine_shape": "hm",
      "provenance": []
    },
    "kaggle": {
      "accelerator": "none",
      "dataSources": [
        {
          "databundleVersionId": 6888007,
          "sourceId": 61542,
          "sourceType": "competition"
        },
        {
          "datasetId": 3936750,
          "sourceId": 6847931,
          "sourceType": "datasetVersion"
        },
        {
          "datasetId": 3945154,
          "sourceId": 6865136,
          "sourceType": "datasetVersion"
        },
        {
          "datasetId": 3942644,
          "sourceId": 6890527,
          "sourceType": "datasetVersion"
        },
        {
          "datasetId": 1640734,
          "sourceId": 6958662,
          "sourceType": "datasetVersion"
        },
        {
          "datasetId": 3961875,
          "sourceId": 6971638,
          "sourceType": "datasetVersion"
        },
        {
          "datasetId": 4005256,
          "sourceId": 6977472,
          "sourceType": "datasetVersion"
        },
        {
          "sourceId": 150784240,
          "sourceType": "kernelVersion"
        }
      ],
      "isGpuEnabled": false,
      "isInternetEnabled": true,
      "language": "python",
      "sourceType": "notebook"
    },
    "kernelspec": {
      "display_name": "Python 3",
      "name": "python3"
    },
    "language_info": {
      "codemirror_mode": {
        "name": "ipython",
        "version": 3
      },
      "file_extension": ".py",
      "mimetype": "text/x-python",
      "name": "python",
      "nbconvert_exporter": "python",
      "pygments_lexer": "ipython3",
      "version": "3.10.12"
    }
  },
  "nbformat": 4,
  "nbformat_minor": 0
}